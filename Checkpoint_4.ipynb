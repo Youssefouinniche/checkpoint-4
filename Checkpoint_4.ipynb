{
  "nbformat": 4,
  "nbformat_minor": 0,
  "metadata": {
    "colab": {
      "name": "Checkpoint 4 ",
      "provenance": [],
      "collapsed_sections": []
    },
    "kernelspec": {
      "name": "python3",
      "display_name": "Python 3"
    },
    "language_info": {
      "name": "python"
    }
  },
  "cells": [
    {
      "cell_type": "code",
      "metadata": {
        "id": "jdkLrQ2iAubz",
        "colab": {
          "base_uri": "https://localhost:8080/"
        },
        "outputId": "f653f976-7251-4d4d-bf1f-551e8d773f74"
      },
      "source": [
        "def Max(a,b,c) :\n",
        "  if a> b and a> c :\n",
        "    return print(a,\"Max\")\n",
        "  elif b> a and b> c :\n",
        "    return print(b,\"Max\")\n",
        "  else : return print(c,\"Max\")\n",
        "x = int(input())\n",
        "y = int(input())\n",
        "z = int(input())\n",
        "(Max(x,y,z))"
      ],
      "execution_count": null,
      "outputs": [
        {
          "output_type": "stream",
          "text": [
            "5\n",
            "45\n",
            "50\n",
            "50 Max\n"
          ],
          "name": "stdout"
        }
      ]
    },
    {
      "cell_type": "code",
      "metadata": {
        "colab": {
          "base_uri": "https://localhost:8080/"
        },
        "id": "mR0_D7moaG0N",
        "outputId": "a8a6c895-f36b-41cb-c6a9-ef1ad38b75ed"
      },
      "source": [
        "def AS(a,b) : \n",
        "  c = a+b\n",
        "  d = a-b\n",
        "  return c,d\n",
        "(AS(10,29))"
      ],
      "execution_count": null,
      "outputs": [
        {
          "output_type": "execute_result",
          "data": {
            "text/plain": [
              "(39, -19)"
            ]
          },
          "metadata": {
            "tags": []
          },
          "execution_count": 5
        }
      ]
    },
    {
      "cell_type": "code",
      "metadata": {
        "colab": {
          "base_uri": "https://localhost:8080/"
        },
        "id": "WNUa0o7tbGwc",
        "outputId": "537255c6-5990-47a3-a886-a10bad472f8a"
      },
      "source": [
        "def SOM(i,m) :\n",
        "    c = i+m\n",
        "    return c\n",
        "def Mul(p,n)  :\n",
        "    d=p*n\n",
        "    return (d) \n",
        "b = int(input(\"Donner le nombre de casse : \"))\n",
        "z= []\n",
        "a = []\n",
        "g = []\n",
        "w = 0\n",
        "f = 1\n",
        "for i in range (b) :  \n",
        "    x = int(input(\"Donner les casses : \"))\n",
        "    z.append(x)\n",
        "for i in range (0,b) : \n",
        "    if i%2 == 0 : \n",
        "       a.append(z[i])\n",
        "    else  : \n",
        "      g.append(z[i])\n",
        "print(g)\n",
        "print(a)\n",
        "for i in  range (0,len(a)) : \n",
        "    w = ((SOM(a[i],w)))\n",
        "for i in range (0,len(g)) : \n",
        "   f  = f+ ((Mul(g[i],f)))\n",
        "print(w)\n",
        "print(f)\n",
        "\n"
      ],
      "execution_count": null,
      "outputs": [
        {
          "output_type": "stream",
          "text": [
            "Donner le nombre de casse : 4\n",
            "Donner les casses : 16\n",
            "Donner les casses : 15\n",
            "Donner les casses : 14\n",
            "Donner les casses : 25\n",
            "[15, 25]\n",
            "[16, 14]\n",
            "30\n",
            "416\n"
          ],
          "name": "stdout"
        }
      ]
    },
    {
      "cell_type": "code",
      "metadata": {
        "colab": {
          "base_uri": "https://localhost:8080/"
        },
        "id": "37IxPGpx2BUP",
        "outputId": "74b48a1d-1d2a-40f1-cb7b-8b573b9bdb91"
      },
      "source": [
        "n = 'green red yellow black white'\n",
        "x = n.split(\" \")\n",
        "print(x)\n",
        "x.sort()\n",
        "print(x)\n",
        "\n"
      ],
      "execution_count": null,
      "outputs": [
        {
          "output_type": "stream",
          "text": [
            "['green', 'red', 'yellow', 'black', 'white']\n",
            "['black', 'green', 'red', 'white', 'yellow']\n"
          ],
          "name": "stdout"
        }
      ]
    }
  ]
}